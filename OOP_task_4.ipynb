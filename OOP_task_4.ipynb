{
  "nbformat": 4,
  "nbformat_minor": 0,
  "metadata": {
    "colab": {
      "name": "OOP_task-4.ipynb",
      "provenance": [],
      "collapsed_sections": []
    },
    "kernelspec": {
      "name": "python3",
      "display_name": "Python 3"
    },
    "language_info": {
      "name": "python"
    }
  },
  "cells": [
    {
      "cell_type": "markdown",
      "metadata": {
        "id": "I-ZJzbm353I4"
      },
      "source": [
        "# Name: Hemang Ranga\n",
        "# Roll no: 20BCS057\n",
        "# OOP Task-4"
      ]
    },
    {
      "cell_type": "markdown",
      "metadata": {
        "id": "rOoWfw38_rfg"
      },
      "source": [
        "##1"
      ]
    },
    {
      "cell_type": "code",
      "metadata": {
        "colab": {
          "base_uri": "https://localhost:8080/",
          "height": 0
        },
        "id": "RBFmqxxjGdgF",
        "outputId": "01f55fb1-00c0-41fc-db8c-0a4497baf37f"
      },
      "source": [
        "#class Node\n",
        "class Node:\n",
        "  def __init__(self, data):\n",
        "    self.data = data \n",
        "    self.next = None # address of next node is NULL(None) as default\n",
        "\n",
        "class Stack:\n",
        "  def __init__(self):\n",
        "    self.head = None #default value of head is NULL(None)\n",
        "\n",
        "  #function to check stack is empty or not\n",
        "  def isempty(self):\n",
        "    if self.head == None:\n",
        "      return True\n",
        "    else:\n",
        "      return False\n",
        "\n",
        "  #function to add element to the stack\n",
        "  def add(self, d):\n",
        "    if self.head == None:\n",
        "      self.head = Node(d)\n",
        "    else:\n",
        "      newnode = Node(d)\n",
        "      newnode.next = self.head\n",
        "      self.head = newnode\n",
        "  \n",
        "  #function to delete data\n",
        "  def remove(self):\n",
        "    if self.isempty():\n",
        "      return None\n",
        "    else:\n",
        "      removed = self.head\n",
        "      self.head = self.head.next\n",
        "      removed.next = None\n",
        "      return removed.data\n",
        "  \n",
        "  #function to print element of stack\n",
        "  def print_stack(self):\n",
        "    var_node = self.head\n",
        "    if self.isempty():\n",
        "      print(\"Empty Stack\")\n",
        "    else:\n",
        "      while(var_node != None):\n",
        "        print(var_node.data,\"->\",end = \" \")\n",
        "        var_node = var_node.next\n",
        "      return\n",
        "  def __del__(self):\n",
        "\n",
        "    print(\"\\n\\nEnd of program.\")\n",
        "    temp = self.head\n",
        "    while temp is not None:\n",
        "      temp1 = temp.next\n",
        "      del temp\n",
        "      temp = temp1\n",
        "    return\n",
        "\n",
        "# Main code\n",
        "MyStack = Stack()\n",
        "\n",
        "# (a) Check stack is empty\n",
        "x = MyStack.isempty()\n",
        "if x == True:\n",
        "  print(\"Empty\")\n",
        "else:\n",
        "  print(\"not Empty\")\n",
        "\n",
        "# (b) Add data to stack\n",
        "MyStack.add(5)\n",
        "MyStack.add(10)\n",
        "MyStack.add(15)\n",
        "MyStack.add(20)\n",
        "\n",
        "# (d) Display the elements of the stack.\n",
        "print(\"\\n\")\n",
        "MyStack.print_stack()\n",
        "\n",
        "# (c) Delete top elements of stack\n",
        "MyStack.remove()\n",
        "MyStack.remove()\n",
        "\n",
        "# (d) Display the elements of the stack.\n",
        "print(\"\\n\")\n",
        "MyStack.print_stack()\n",
        "\n",
        "# (e) Deallocate the memory assigned to each node using destructors.\n",
        "del MyStack"
      ],
      "execution_count": 19,
      "outputs": [
        {
          "output_type": "stream",
          "name": "stdout",
          "text": [
            "Empty\n",
            "\n",
            "\n",
            "20 -> 15 -> 10 -> 5 -> \n",
            "\n",
            "10 -> 5 -> \n",
            "\n",
            "End of program.\n"
          ]
        }
      ]
    },
    {
      "cell_type": "markdown",
      "metadata": {
        "id": "S9Vn5BRL53y2"
      },
      "source": [
        "##2"
      ]
    },
    {
      "cell_type": "code",
      "metadata": {
        "id": "Avz_Y2Nl54V0",
        "colab": {
          "base_uri": "https://localhost:8080/",
          "height": 0
        },
        "outputId": "22241303-f1b1-4a8a-b6e8-e89e532459cd"
      },
      "source": [
        "# default constructor\n",
        "class Rectangle:\n",
        "  def __init__(self):\n",
        "    self.length = 8\n",
        "    self.breadth = 6\n",
        "  def area(self):\n",
        "    a = (self.length) * (self.breadth)\n",
        "    return a\n",
        "\n",
        "rect = Rectangle()\n",
        "print(rect.area())"
      ],
      "execution_count": 2,
      "outputs": [
        {
          "output_type": "stream",
          "name": "stdout",
          "text": [
            "48\n"
          ]
        }
      ]
    },
    {
      "cell_type": "code",
      "metadata": {
        "colab": {
          "base_uri": "https://localhost:8080/",
          "height": 0
        },
        "id": "qFiSOuA1-t4n",
        "outputId": "7ef0d150-24a6-43ca-9a11-9e257e904450"
      },
      "source": [
        "# parametrized constructor\n",
        "class Rectangle:\n",
        "  def __init__(self, l, b):\n",
        "    self.length = l\n",
        "    self.breadth = b\n",
        "  def area(self):\n",
        "    a = (self.length) * (self.breadth)\n",
        "    return a\n",
        "\n",
        "rect = Rectangle(7,9)\n",
        "print(rect.area())"
      ],
      "execution_count": 3,
      "outputs": [
        {
          "output_type": "stream",
          "name": "stdout",
          "text": [
            "63\n"
          ]
        }
      ]
    },
    {
      "cell_type": "markdown",
      "metadata": {
        "id": "uax_JeC9hU7F"
      },
      "source": [
        "##3"
      ]
    },
    {
      "cell_type": "code",
      "metadata": {
        "colab": {
          "base_uri": "https://localhost:8080/",
          "height": 0
        },
        "id": "EDrsRD6rhXQA",
        "outputId": "b6774948-f83f-4610-8502-8d6c2b194dbf"
      },
      "source": [
        "class Queue:\n",
        "    def __init__(self, size):\n",
        "        self.queue = []\n",
        "        self.size = size\n",
        "\n",
        "    def __str__(self):\n",
        "        myString = ' '.join(str(i) for i in self.queue)\n",
        "        return myString\n",
        "\n",
        "    def enqueue(self, item):\n",
        "        #This function adds an item to the rear end of the queue\n",
        "        if(self.isFull() != True):\n",
        "            self.queue.insert(0, item)\n",
        "        else:\n",
        "            print('Queue is Full!')\n",
        "\n",
        "    def dequeue(self):\n",
        "        #This function removes an item from the front end of the queue\n",
        "        if(self.isEmpty() != True):\n",
        "            return self.queue.pop()\n",
        "        else:\n",
        "            print('Queue is Empty!')\n",
        "\n",
        "    def isEmpty(self):\n",
        "        #This function checks if the queue is empty\n",
        "        return self.queue == []\n",
        "\n",
        "    def isFull(self):\n",
        "        #This function checks if the queue is full\n",
        "        return len(self.queue) == self.size\n",
        "\n",
        "    def peek(self):\n",
        "        #This function helps to see the first element at the fron end of the queue\n",
        "        if(self.isEmpty() != True):\n",
        "            return self.queue[-1]\n",
        "        else:\n",
        "            print('Queue is Empty!')\n",
        "            \n",
        "\n",
        "if __name__ == '__main__':\n",
        "    myQueue = Queue(10)\n",
        "    myQueue.enqueue(7)\n",
        "    myQueue.enqueue(8)\n",
        "    myQueue.enqueue(9)\n",
        "    \n",
        "    print(myQueue)\n",
        "    \n",
        "    myQueue.enqueue(17)\n",
        "    myQueue.enqueue(2)\n",
        "    myQueue.enqueue(13)\n",
        "    \n",
        "    print(myQueue)\n",
        "    \n",
        "    myQueue.dequeue()\n",
        "    \n",
        "    print(myQueue)"
      ],
      "execution_count": 11,
      "outputs": [
        {
          "output_type": "stream",
          "name": "stdout",
          "text": [
            "9 8 7\n",
            "13 2 17 9 8 7\n",
            "13 2 17 9 8\n"
          ]
        }
      ]
    }
  ]
}